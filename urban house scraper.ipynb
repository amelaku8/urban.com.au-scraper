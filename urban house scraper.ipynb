{
  "cells": [
    {
      "cell_type": "code",
      "source": [
        "from math import ceil\n",
        "\n",
        "import pandas as pd\n",
        "import httpx\n",
        "from httpx import AsyncClient\n",
        "import asyncio\n",
        "from flatten_json import flatten_json"
      ],
      "metadata": {
        "id": "KN0PHmzj8NRj"
      },
      "execution_count": 2,
      "outputs": []
    },
    {
      "cell_type": "code",
      "execution_count": 4,
      "metadata": {
        "id": "yg10sT2n4Ug6"
      },
      "outputs": [],
      "source": [
        "states = {'qld' ,'wa','tas','nsw','vic','sa'}\n",
        "states_dict = {}\n",
        "for state in states:\n",
        "  r  = httpx.get(f'https://www.urban.com.au/_next/data/7LtbXMYfk1smYiRsfTvzK/developments/{state}/page/1.json?slug=developments&slug={state}&slug=page&slug=1')\n",
        "  states_dict[state] = r.json()['pageProps']['resource']['dataItems']['total']\n"
      ]
    },
    {
      "cell_type": "code",
      "execution_count": 5,
      "metadata": {
        "id": "cQZesx-AAXEN"
      },
      "outputs": [],
      "source": [
        "async def get_data(client,state,i):\n",
        "    r = await client.get((f'https://www.urban.com.au/_next/data/7LtbXMYfk1smYiRsfTvzK/developments/{state}/page/1.json?slug=developments&slug={state}&slug=page&slug={i}'))\n",
        "    return r.json()"
      ]
    },
    {
      "cell_type": "code",
      "execution_count": 6,
      "metadata": {
        "id": "F4j38DzJBNnV"
      },
      "outputs": [],
      "source": [
        "client  = httpx.AsyncClient(limits=httpx.Limits(max_connections=None, max_keepalive_connections=None,keepalive_expiry=None),timeout=None, http2=True)\n",
        "responses  =await asyncio.gather(*[get_data(client,state,i) for state,count in states_dict.items() for i in range(1,ceil(count/41))])\n"
      ]
    },
    {
      "cell_type": "code",
      "execution_count": 7,
      "metadata": {
        "id": "_l6Q4m_oTPir"
      },
      "outputs": [],
      "source": [
        "urls = []\n",
        "for reponse in responses:\n",
        "  for item in reponse['pageProps']['resource']['dataItems']['items']:\n",
        "    url = f'https://www.urban.com.au/_next/data/7LtbXMYfk1smYiRsfTvzK{item[\"url\"]}.json'\n",
        "    urls.append(url)"
      ]
    },
    {
      "cell_type": "code",
      "execution_count": 9,
      "metadata": {
        "id": "o83cNbFyZZuc"
      },
      "outputs": [],
      "source": [
        "responses = await asyncio.gather(*[client.get(url) for url in urls])\n",
        "flattened = []\n",
        "for response in responses:\n",
        "  flattened.append(flatten_json(response.json()))\n",
        "await client.aclose()"
      ]
    },
    {
      "cell_type": "code",
      "source": [
        "df = pd.DataFrame(flattened)\n",
        "df.to_csv('extracted houses.csv')"
      ],
      "metadata": {
        "id": "z7bnJZlqCUvC"
      },
      "execution_count": 10,
      "outputs": []
    },
    {
      "cell_type": "code",
      "source": [],
      "metadata": {
        "id": "YL3PyrkX96S3"
      },
      "execution_count": null,
      "outputs": []
    }
  ],
  "metadata": {
    "colab": {
      "gpuType": "T4",
      "provenance": []
    },
    "kernelspec": {
      "display_name": "Python 3",
      "name": "python3"
    },
    "language_info": {
      "name": "python"
    }
  },
  "nbformat": 4,
  "nbformat_minor": 0
}